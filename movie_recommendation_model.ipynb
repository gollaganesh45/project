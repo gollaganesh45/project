<a href="https://colab.research.google.com/github/Dhanushaiml/Dhanushaiml/blob/main/movie_recommendation_model.ipynb" target="_parent"><img src="https://colab.research.google.com/assets/colab-badge.svg" alt="Open In Colab"/></a>
import pandas as pd
import numpy as np
# Use the 'raw' URL for the CSV file on GitHub
df = pd.read_csv('https://raw.githubusercontent.com/YBI-Foundation/Dataset/main/Movies%20Recommendation.csv')

df.head()
df.info()
df.shape
df.columns
df_features = df[['Movie_Genre','Movie_Keywords','Movie_Tagline','Movie_Cast','Movie_Director']].fillna('')
df_features.shape
df_features
x = df_features['Movie_Genre'] + ' ' + df_features['Movie_Keywords'] + ' ' + df_features['Movie_Tagline'] + ' ' + df_features['Movie_Cast'] + ' ' + df_features['Movie_Director']
x
x.shape
from sklearn.feature_extraction.text import TfidfVectorizer
tfidf = TfidfVectorizer()
x = tfidf.fit_transform(x)
x.shape
print(x)
from sklearn.metrics.pairwise import cosine_similarity
similarity_score = cosine_similarity(x)
similarity_score
similarity_score.shape
favarite_movie = input('Enter your favourite movie name : ')
All_movies_title_list = df['Movie_Title'].tolist()
import difflib
movie_recommendation = difflib.get_close_matches(favarite_movie,All_movies_title_list)
print(movie_recommendation)
close_match = movie_recommendation[0]
print(close_match)
index_of_close_match_movie = df[df.Movie_Title == close_match]['Movie_ID'].values[0]
print(index_of_close_match_movie)
Recomantion_score = list(enumerate(similarity_score[index_of_close_match_movie]))
print(Recomantion_score)
len(Recomantion_score)
sorted_similar_movies = sorted(Recomantion_score,key = lambda x:x[1],reverse = True)
print(sorted_similar_movies)
from operator import index
print('Top 30 movies recomanded for you : \n')
i = 1

for movie in sorted_similar_movies:
  index = movie[0]
  title_from_index = df[df.index == index]['Movie_Title'].values[0]
  if (i<31):
    print(i,'.',title_from_index)
    i+=1
movie_name = input('Enter your favourite movie name : ')

list_of_all_titles = df['Movie_Title'].tolist()
find_close_match = difflib.get_close_matches(movie_name,list_of_all_titles)

close_match = find_close_match[0]

index_of_movie = df[df.Movie_Title == close_match]['Movie_ID'].values[0]

recommendation_score = list(enumerate(similarity_score[index_of_movie]))
sorted_similar_movies = sorted(recommendation_score,key = lambda x:x[1],reverse = True)
print('Top 30 movies recomanded for you : \n')
i = 1

for movie in sorted_similar_movies:
  index = movie[0]
  title_from_index = df[df.index == index]['Movie_Title'].values[0]
  if (i<31):
    print(i,'.',title_from_index)
    i+=1
